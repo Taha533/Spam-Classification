{
 "cells": [
  {
   "cell_type": "code",
   "execution_count": 1,
   "id": "39e5c06f",
   "metadata": {
    "_cell_guid": "b1076dfc-b9ad-4769-8c92-a6c4dae69d19",
    "_uuid": "8f2839f25d086af736a60e9eeb907d3b93b6e0e5",
    "execution": {
     "iopub.execute_input": "2022-02-28T07:22:58.676958Z",
     "iopub.status.busy": "2022-02-28T07:22:58.675910Z",
     "iopub.status.idle": "2022-02-28T07:22:59.742587Z",
     "shell.execute_reply": "2022-02-28T07:22:59.741643Z",
     "shell.execute_reply.started": "2022-02-28T06:33:43.212775Z"
    },
    "papermill": {
     "duration": 1.107421,
     "end_time": "2022-02-28T07:22:59.742777",
     "exception": false,
     "start_time": "2022-02-28T07:22:58.635356",
     "status": "completed"
    },
    "tags": []
   },
   "outputs": [
    {
     "name": "stdout",
     "output_type": "stream",
     "text": [
      "/kaggle/input/email-spam-detection-dataset-classification/spam.csv\n"
     ]
    }
   ],
   "source": [
    "import numpy as np # linear algebra\n",
    "import pandas as pd # data processing, CSV file I/O (e.g. pd.read_csv)\n",
    "import matplotlib.pyplot as plt\n",
    "import seaborn as sns\n",
    "\n",
    "import os\n",
    "for dirname, _, filenames in os.walk('/kaggle/input'):\n",
    "    for filename in filenames:\n",
    "        print(os.path.join(dirname, filename))"
   ]
  },
  {
   "cell_type": "code",
   "execution_count": 2,
   "id": "2cf968f7",
   "metadata": {
    "execution": {
     "iopub.execute_input": "2022-02-28T07:22:59.801005Z",
     "iopub.status.busy": "2022-02-28T07:22:59.800285Z",
     "iopub.status.idle": "2022-02-28T07:22:59.844852Z",
     "shell.execute_reply": "2022-02-28T07:22:59.844274Z",
     "shell.execute_reply.started": "2022-02-28T06:34:33.395358Z"
    },
    "papermill": {
     "duration": 0.076043,
     "end_time": "2022-02-28T07:22:59.844997",
     "exception": false,
     "start_time": "2022-02-28T07:22:59.768954",
     "status": "completed"
    },
    "tags": []
   },
   "outputs": [
    {
     "data": {
      "text/html": [
       "<div>\n",
       "<style scoped>\n",
       "    .dataframe tbody tr th:only-of-type {\n",
       "        vertical-align: middle;\n",
       "    }\n",
       "\n",
       "    .dataframe tbody tr th {\n",
       "        vertical-align: top;\n",
       "    }\n",
       "\n",
       "    .dataframe thead th {\n",
       "        text-align: right;\n",
       "    }\n",
       "</style>\n",
       "<table border=\"1\" class=\"dataframe\">\n",
       "  <thead>\n",
       "    <tr style=\"text-align: right;\">\n",
       "      <th></th>\n",
       "      <th>v1</th>\n",
       "      <th>v2</th>\n",
       "      <th>Unnamed: 2</th>\n",
       "      <th>Unnamed: 3</th>\n",
       "      <th>Unnamed: 4</th>\n",
       "    </tr>\n",
       "  </thead>\n",
       "  <tbody>\n",
       "    <tr>\n",
       "      <th>0</th>\n",
       "      <td>ham</td>\n",
       "      <td>Go until jurong point, crazy.. Available only ...</td>\n",
       "      <td>NaN</td>\n",
       "      <td>NaN</td>\n",
       "      <td>NaN</td>\n",
       "    </tr>\n",
       "    <tr>\n",
       "      <th>1</th>\n",
       "      <td>ham</td>\n",
       "      <td>Ok lar... Joking wif u oni...</td>\n",
       "      <td>NaN</td>\n",
       "      <td>NaN</td>\n",
       "      <td>NaN</td>\n",
       "    </tr>\n",
       "    <tr>\n",
       "      <th>2</th>\n",
       "      <td>spam</td>\n",
       "      <td>Free entry in 2 a wkly comp to win FA Cup fina...</td>\n",
       "      <td>NaN</td>\n",
       "      <td>NaN</td>\n",
       "      <td>NaN</td>\n",
       "    </tr>\n",
       "    <tr>\n",
       "      <th>3</th>\n",
       "      <td>ham</td>\n",
       "      <td>U dun say so early hor... U c already then say...</td>\n",
       "      <td>NaN</td>\n",
       "      <td>NaN</td>\n",
       "      <td>NaN</td>\n",
       "    </tr>\n",
       "    <tr>\n",
       "      <th>4</th>\n",
       "      <td>ham</td>\n",
       "      <td>Nah I don't think he goes to usf, he lives aro...</td>\n",
       "      <td>NaN</td>\n",
       "      <td>NaN</td>\n",
       "      <td>NaN</td>\n",
       "    </tr>\n",
       "  </tbody>\n",
       "</table>\n",
       "</div>"
      ],
      "text/plain": [
       "     v1                                                 v2 Unnamed: 2  \\\n",
       "0   ham  Go until jurong point, crazy.. Available only ...        NaN   \n",
       "1   ham                      Ok lar... Joking wif u oni...        NaN   \n",
       "2  spam  Free entry in 2 a wkly comp to win FA Cup fina...        NaN   \n",
       "3   ham  U dun say so early hor... U c already then say...        NaN   \n",
       "4   ham  Nah I don't think he goes to usf, he lives aro...        NaN   \n",
       "\n",
       "  Unnamed: 3 Unnamed: 4  \n",
       "0        NaN        NaN  \n",
       "1        NaN        NaN  \n",
       "2        NaN        NaN  \n",
       "3        NaN        NaN  \n",
       "4        NaN        NaN  "
      ]
     },
     "execution_count": 2,
     "metadata": {},
     "output_type": "execute_result"
    }
   ],
   "source": [
    "df = pd.read_csv(\"../input/email-spam-detection-dataset-classification/spam.csv\", \n",
    "                 encoding = 'latin-1')\n",
    "df.head()"
   ]
  },
  {
   "cell_type": "code",
   "execution_count": 3,
   "id": "f243c693",
   "metadata": {
    "execution": {
     "iopub.execute_input": "2022-02-28T07:22:59.912835Z",
     "iopub.status.busy": "2022-02-28T07:22:59.911790Z",
     "iopub.status.idle": "2022-02-28T07:22:59.915707Z",
     "shell.execute_reply": "2022-02-28T07:22:59.916282Z",
     "shell.execute_reply.started": "2022-02-28T06:35:38.729247Z"
    },
    "papermill": {
     "duration": 0.04521,
     "end_time": "2022-02-28T07:22:59.916463",
     "exception": false,
     "start_time": "2022-02-28T07:22:59.871253",
     "status": "completed"
    },
    "tags": []
   },
   "outputs": [
    {
     "data": {
      "text/html": [
       "<div>\n",
       "<style scoped>\n",
       "    .dataframe tbody tr th:only-of-type {\n",
       "        vertical-align: middle;\n",
       "    }\n",
       "\n",
       "    .dataframe tbody tr th {\n",
       "        vertical-align: top;\n",
       "    }\n",
       "\n",
       "    .dataframe thead th {\n",
       "        text-align: right;\n",
       "    }\n",
       "</style>\n",
       "<table border=\"1\" class=\"dataframe\">\n",
       "  <thead>\n",
       "    <tr style=\"text-align: right;\">\n",
       "      <th></th>\n",
       "      <th>v1</th>\n",
       "      <th>v2</th>\n",
       "    </tr>\n",
       "  </thead>\n",
       "  <tbody>\n",
       "    <tr>\n",
       "      <th>0</th>\n",
       "      <td>ham</td>\n",
       "      <td>Go until jurong point, crazy.. Available only ...</td>\n",
       "    </tr>\n",
       "    <tr>\n",
       "      <th>1</th>\n",
       "      <td>ham</td>\n",
       "      <td>Ok lar... Joking wif u oni...</td>\n",
       "    </tr>\n",
       "    <tr>\n",
       "      <th>2</th>\n",
       "      <td>spam</td>\n",
       "      <td>Free entry in 2 a wkly comp to win FA Cup fina...</td>\n",
       "    </tr>\n",
       "    <tr>\n",
       "      <th>3</th>\n",
       "      <td>ham</td>\n",
       "      <td>U dun say so early hor... U c already then say...</td>\n",
       "    </tr>\n",
       "    <tr>\n",
       "      <th>4</th>\n",
       "      <td>ham</td>\n",
       "      <td>Nah I don't think he goes to usf, he lives aro...</td>\n",
       "    </tr>\n",
       "  </tbody>\n",
       "</table>\n",
       "</div>"
      ],
      "text/plain": [
       "     v1                                                 v2\n",
       "0   ham  Go until jurong point, crazy.. Available only ...\n",
       "1   ham                      Ok lar... Joking wif u oni...\n",
       "2  spam  Free entry in 2 a wkly comp to win FA Cup fina...\n",
       "3   ham  U dun say so early hor... U c already then say...\n",
       "4   ham  Nah I don't think he goes to usf, he lives aro..."
      ]
     },
     "execution_count": 3,
     "metadata": {},
     "output_type": "execute_result"
    }
   ],
   "source": [
    "df.drop(['Unnamed: 2', 'Unnamed: 3', 'Unnamed: 4'], axis = 1, inplace=True)\n",
    "df.head()"
   ]
  },
  {
   "cell_type": "code",
   "execution_count": 4,
   "id": "d775169c",
   "metadata": {
    "execution": {
     "iopub.execute_input": "2022-02-28T07:22:59.978605Z",
     "iopub.status.busy": "2022-02-28T07:22:59.977865Z",
     "iopub.status.idle": "2022-02-28T07:22:59.981446Z",
     "shell.execute_reply": "2022-02-28T07:22:59.981937Z",
     "shell.execute_reply.started": "2022-02-28T06:37:23.530556Z"
    },
    "papermill": {
     "duration": 0.039539,
     "end_time": "2022-02-28T07:22:59.982113",
     "exception": false,
     "start_time": "2022-02-28T07:22:59.942574",
     "status": "completed"
    },
    "tags": []
   },
   "outputs": [
    {
     "data": {
      "text/html": [
       "<div>\n",
       "<style scoped>\n",
       "    .dataframe tbody tr th:only-of-type {\n",
       "        vertical-align: middle;\n",
       "    }\n",
       "\n",
       "    .dataframe tbody tr th {\n",
       "        vertical-align: top;\n",
       "    }\n",
       "\n",
       "    .dataframe thead th {\n",
       "        text-align: right;\n",
       "    }\n",
       "</style>\n",
       "<table border=\"1\" class=\"dataframe\">\n",
       "  <thead>\n",
       "    <tr style=\"text-align: right;\">\n",
       "      <th></th>\n",
       "      <th>label</th>\n",
       "      <th>text</th>\n",
       "    </tr>\n",
       "  </thead>\n",
       "  <tbody>\n",
       "    <tr>\n",
       "      <th>0</th>\n",
       "      <td>ham</td>\n",
       "      <td>Go until jurong point, crazy.. Available only ...</td>\n",
       "    </tr>\n",
       "    <tr>\n",
       "      <th>1</th>\n",
       "      <td>ham</td>\n",
       "      <td>Ok lar... Joking wif u oni...</td>\n",
       "    </tr>\n",
       "  </tbody>\n",
       "</table>\n",
       "</div>"
      ],
      "text/plain": [
       "  label                                               text\n",
       "0   ham  Go until jurong point, crazy.. Available only ...\n",
       "1   ham                      Ok lar... Joking wif u oni..."
      ]
     },
     "execution_count": 4,
     "metadata": {},
     "output_type": "execute_result"
    }
   ],
   "source": [
    "df.rename(columns = {'v1': 'label', 'v2': 'text'},inplace =True)\n",
    "df.head(2)"
   ]
  },
  {
   "cell_type": "code",
   "execution_count": 5,
   "id": "b9beb389",
   "metadata": {
    "execution": {
     "iopub.execute_input": "2022-02-28T07:23:00.042682Z",
     "iopub.status.busy": "2022-02-28T07:23:00.041922Z",
     "iopub.status.idle": "2022-02-28T07:23:00.057539Z",
     "shell.execute_reply": "2022-02-28T07:23:00.058093Z",
     "shell.execute_reply.started": "2022-02-28T06:37:38.155437Z"
    },
    "papermill": {
     "duration": 0.049419,
     "end_time": "2022-02-28T07:23:00.058288",
     "exception": false,
     "start_time": "2022-02-28T07:23:00.008869",
     "status": "completed"
    },
    "tags": []
   },
   "outputs": [
    {
     "name": "stdout",
     "output_type": "stream",
     "text": [
      "<class 'pandas.core.frame.DataFrame'>\n",
      "RangeIndex: 5572 entries, 0 to 5571\n",
      "Data columns (total 2 columns):\n",
      " #   Column  Non-Null Count  Dtype \n",
      "---  ------  --------------  ----- \n",
      " 0   label   5572 non-null   object\n",
      " 1   text    5572 non-null   object\n",
      "dtypes: object(2)\n",
      "memory usage: 87.2+ KB\n"
     ]
    }
   ],
   "source": [
    "df.info()"
   ]
  },
  {
   "cell_type": "code",
   "execution_count": 6,
   "id": "052685f6",
   "metadata": {
    "execution": {
     "iopub.execute_input": "2022-02-28T07:23:00.116427Z",
     "iopub.status.busy": "2022-02-28T07:23:00.115727Z",
     "iopub.status.idle": "2022-02-28T07:23:00.124277Z",
     "shell.execute_reply": "2022-02-28T07:23:00.124825Z",
     "shell.execute_reply.started": "2022-02-28T06:37:48.287415Z"
    },
    "papermill": {
     "duration": 0.038682,
     "end_time": "2022-02-28T07:23:00.124999",
     "exception": false,
     "start_time": "2022-02-28T07:23:00.086317",
     "status": "completed"
    },
    "tags": []
   },
   "outputs": [
    {
     "data": {
      "text/plain": [
       "label    0\n",
       "text     0\n",
       "dtype: int64"
      ]
     },
     "execution_count": 6,
     "metadata": {},
     "output_type": "execute_result"
    }
   ],
   "source": [
    "df.isnull().sum()"
   ]
  },
  {
   "cell_type": "code",
   "execution_count": 7,
   "id": "2e71046e",
   "metadata": {
    "execution": {
     "iopub.execute_input": "2022-02-28T07:23:00.184233Z",
     "iopub.status.busy": "2022-02-28T07:23:00.183571Z",
     "iopub.status.idle": "2022-02-28T07:23:00.201022Z",
     "shell.execute_reply": "2022-02-28T07:23:00.201541Z",
     "shell.execute_reply.started": "2022-02-28T06:37:55.451817Z"
    },
    "papermill": {
     "duration": 0.047925,
     "end_time": "2022-02-28T07:23:00.201721",
     "exception": false,
     "start_time": "2022-02-28T07:23:00.153796",
     "status": "completed"
    },
    "tags": []
   },
   "outputs": [
    {
     "data": {
      "text/html": [
       "<div>\n",
       "<style scoped>\n",
       "    .dataframe tbody tr th:only-of-type {\n",
       "        vertical-align: middle;\n",
       "    }\n",
       "\n",
       "    .dataframe tbody tr th {\n",
       "        vertical-align: top;\n",
       "    }\n",
       "\n",
       "    .dataframe thead th {\n",
       "        text-align: right;\n",
       "    }\n",
       "</style>\n",
       "<table border=\"1\" class=\"dataframe\">\n",
       "  <thead>\n",
       "    <tr style=\"text-align: right;\">\n",
       "      <th></th>\n",
       "      <th>label</th>\n",
       "      <th>text</th>\n",
       "    </tr>\n",
       "  </thead>\n",
       "  <tbody>\n",
       "    <tr>\n",
       "      <th>count</th>\n",
       "      <td>5572</td>\n",
       "      <td>5572</td>\n",
       "    </tr>\n",
       "    <tr>\n",
       "      <th>unique</th>\n",
       "      <td>2</td>\n",
       "      <td>5169</td>\n",
       "    </tr>\n",
       "    <tr>\n",
       "      <th>top</th>\n",
       "      <td>ham</td>\n",
       "      <td>Sorry, I'll call later</td>\n",
       "    </tr>\n",
       "    <tr>\n",
       "      <th>freq</th>\n",
       "      <td>4825</td>\n",
       "      <td>30</td>\n",
       "    </tr>\n",
       "  </tbody>\n",
       "</table>\n",
       "</div>"
      ],
      "text/plain": [
       "       label                    text\n",
       "count   5572                    5572\n",
       "unique     2                    5169\n",
       "top      ham  Sorry, I'll call later\n",
       "freq    4825                      30"
      ]
     },
     "execution_count": 7,
     "metadata": {},
     "output_type": "execute_result"
    }
   ],
   "source": [
    "df.describe()"
   ]
  },
  {
   "cell_type": "code",
   "execution_count": 8,
   "id": "cea28bd0",
   "metadata": {
    "execution": {
     "iopub.execute_input": "2022-02-28T07:23:00.263094Z",
     "iopub.status.busy": "2022-02-28T07:23:00.262427Z",
     "iopub.status.idle": "2022-02-28T07:23:00.270049Z",
     "shell.execute_reply": "2022-02-28T07:23:00.270647Z",
     "shell.execute_reply.started": "2022-02-28T06:38:21.142620Z"
    },
    "papermill": {
     "duration": 0.040472,
     "end_time": "2022-02-28T07:23:00.270818",
     "exception": false,
     "start_time": "2022-02-28T07:23:00.230346",
     "status": "completed"
    },
    "tags": []
   },
   "outputs": [
    {
     "data": {
      "text/plain": [
       "ham     4825\n",
       "spam     747\n",
       "Name: label, dtype: int64"
      ]
     },
     "execution_count": 8,
     "metadata": {},
     "output_type": "execute_result"
    }
   ],
   "source": [
    "df.label.value_counts()"
   ]
  },
  {
   "cell_type": "code",
   "execution_count": 9,
   "id": "8af9403c",
   "metadata": {
    "execution": {
     "iopub.execute_input": "2022-02-28T07:23:00.332461Z",
     "iopub.status.busy": "2022-02-28T07:23:00.331803Z",
     "iopub.status.idle": "2022-02-28T07:23:00.345653Z",
     "shell.execute_reply": "2022-02-28T07:23:00.345099Z",
     "shell.execute_reply.started": "2022-02-28T06:39:20.860668Z"
    },
    "papermill": {
     "duration": 0.045148,
     "end_time": "2022-02-28T07:23:00.345801",
     "exception": false,
     "start_time": "2022-02-28T07:23:00.300653",
     "status": "completed"
    },
    "tags": []
   },
   "outputs": [
    {
     "data": {
      "text/html": [
       "<div>\n",
       "<style scoped>\n",
       "    .dataframe tbody tr th:only-of-type {\n",
       "        vertical-align: middle;\n",
       "    }\n",
       "\n",
       "    .dataframe tbody tr th {\n",
       "        vertical-align: top;\n",
       "    }\n",
       "\n",
       "    .dataframe thead th {\n",
       "        text-align: right;\n",
       "    }\n",
       "</style>\n",
       "<table border=\"1\" class=\"dataframe\">\n",
       "  <thead>\n",
       "    <tr style=\"text-align: right;\">\n",
       "      <th></th>\n",
       "      <th>label</th>\n",
       "      <th>text</th>\n",
       "      <th>length</th>\n",
       "    </tr>\n",
       "  </thead>\n",
       "  <tbody>\n",
       "    <tr>\n",
       "      <th>0</th>\n",
       "      <td>ham</td>\n",
       "      <td>Go until jurong point, crazy.. Available only ...</td>\n",
       "      <td>111</td>\n",
       "    </tr>\n",
       "    <tr>\n",
       "      <th>1</th>\n",
       "      <td>ham</td>\n",
       "      <td>Ok lar... Joking wif u oni...</td>\n",
       "      <td>29</td>\n",
       "    </tr>\n",
       "    <tr>\n",
       "      <th>2</th>\n",
       "      <td>spam</td>\n",
       "      <td>Free entry in 2 a wkly comp to win FA Cup fina...</td>\n",
       "      <td>155</td>\n",
       "    </tr>\n",
       "    <tr>\n",
       "      <th>3</th>\n",
       "      <td>ham</td>\n",
       "      <td>U dun say so early hor... U c already then say...</td>\n",
       "      <td>49</td>\n",
       "    </tr>\n",
       "    <tr>\n",
       "      <th>4</th>\n",
       "      <td>ham</td>\n",
       "      <td>Nah I don't think he goes to usf, he lives aro...</td>\n",
       "      <td>61</td>\n",
       "    </tr>\n",
       "  </tbody>\n",
       "</table>\n",
       "</div>"
      ],
      "text/plain": [
       "  label                                               text  length\n",
       "0   ham  Go until jurong point, crazy.. Available only ...     111\n",
       "1   ham                      Ok lar... Joking wif u oni...      29\n",
       "2  spam  Free entry in 2 a wkly comp to win FA Cup fina...     155\n",
       "3   ham  U dun say so early hor... U c already then say...      49\n",
       "4   ham  Nah I don't think he goes to usf, he lives aro...      61"
      ]
     },
     "execution_count": 9,
     "metadata": {},
     "output_type": "execute_result"
    }
   ],
   "source": [
    "df['length'] = df['text'].apply(len)\n",
    "df.head()"
   ]
  },
  {
   "cell_type": "code",
   "execution_count": 10,
   "id": "c0de0c4b",
   "metadata": {
    "execution": {
     "iopub.execute_input": "2022-02-28T07:23:00.407285Z",
     "iopub.status.busy": "2022-02-28T07:23:00.406580Z",
     "iopub.status.idle": "2022-02-28T07:23:00.725043Z",
     "shell.execute_reply": "2022-02-28T07:23:00.724456Z",
     "shell.execute_reply.started": "2022-02-28T07:18:50.091364Z"
    },
    "papermill": {
     "duration": 0.350646,
     "end_time": "2022-02-28T07:23:00.725213",
     "exception": false,
     "start_time": "2022-02-28T07:23:00.374567",
     "status": "completed"
    },
    "tags": []
   },
   "outputs": [
    {
     "data": {
      "image/png": "[encoded data removed]",
      "text/plain": [
       "<Figure size 576x432 with 1 Axes>"
      ]
     },
     "metadata": {
      "needs_background": "light"
     },
     "output_type": "display_data"
    }
   ],
   "source": [
    "df['length'].plot(kind = 'hist', figsize=(8,6),bins = 50)\n",
    "plt.show()"
   ]
  },
  {
   "cell_type": "code",
   "execution_count": 11,
   "id": "88106982",
   "metadata": {
    "execution": {
     "iopub.execute_input": "2022-02-28T07:23:00.793876Z",
     "iopub.status.busy": "2022-02-28T07:23:00.791202Z",
     "iopub.status.idle": "2022-02-28T07:23:01.259921Z",
     "shell.execute_reply": "2022-02-28T07:23:01.259239Z",
     "shell.execute_reply.started": "2022-02-28T06:55:11.239241Z"
    },
    "papermill": {
     "duration": 0.505156,
     "end_time": "2022-02-28T07:23:01.260064",
     "exception": false,
     "start_time": "2022-02-28T07:23:00.754908",
     "status": "completed"
    },
    "tags": []
   },
   "outputs": [
    {
     "data": {
      "image/png": "[encoded data removed]",
      "text/plain": [
       "<Figure size 720x360 with 2 Axes>"
      ]
     },
     "metadata": {
      "needs_background": "light"
     },
     "output_type": "display_data"
    }
   ],
   "source": [
    "df.hist(column = 'length', by = 'label', bins= 50, figsize=(10,5))\n",
    "plt.show()"
   ]
  },
  {
   "cell_type": "code",
   "execution_count": 12,
   "id": "e6355749",
   "metadata": {
    "execution": {
     "iopub.execute_input": "2022-02-28T07:23:01.334067Z",
     "iopub.status.busy": "2022-02-28T07:23:01.333210Z",
     "iopub.status.idle": "2022-02-28T07:23:01.337481Z",
     "shell.execute_reply": "2022-02-28T07:23:01.336811Z",
     "shell.execute_reply.started": "2022-02-28T06:56:27.189844Z"
    },
    "papermill": {
     "duration": 0.046769,
     "end_time": "2022-02-28T07:23:01.337629",
     "exception": false,
     "start_time": "2022-02-28T07:23:01.290860",
     "status": "completed"
    },
    "tags": []
   },
   "outputs": [
    {
     "data": {
      "text/html": [
       "<div>\n",
       "<style scoped>\n",
       "    .dataframe tbody tr th:only-of-type {\n",
       "        vertical-align: middle;\n",
       "    }\n",
       "\n",
       "    .dataframe tbody tr th {\n",
       "        vertical-align: top;\n",
       "    }\n",
       "\n",
       "    .dataframe thead th {\n",
       "        text-align: right;\n",
       "    }\n",
       "</style>\n",
       "<table border=\"1\" class=\"dataframe\">\n",
       "  <thead>\n",
       "    <tr style=\"text-align: right;\">\n",
       "      <th></th>\n",
       "      <th>label</th>\n",
       "      <th>text</th>\n",
       "      <th>length</th>\n",
       "    </tr>\n",
       "  </thead>\n",
       "  <tbody>\n",
       "    <tr>\n",
       "      <th>0</th>\n",
       "      <td>0</td>\n",
       "      <td>Go until jurong point, crazy.. Available only ...</td>\n",
       "      <td>111</td>\n",
       "    </tr>\n",
       "    <tr>\n",
       "      <th>1</th>\n",
       "      <td>0</td>\n",
       "      <td>Ok lar... Joking wif u oni...</td>\n",
       "      <td>29</td>\n",
       "    </tr>\n",
       "    <tr>\n",
       "      <th>2</th>\n",
       "      <td>1</td>\n",
       "      <td>Free entry in 2 a wkly comp to win FA Cup fina...</td>\n",
       "      <td>155</td>\n",
       "    </tr>\n",
       "    <tr>\n",
       "      <th>3</th>\n",
       "      <td>0</td>\n",
       "      <td>U dun say so early hor... U c already then say...</td>\n",
       "      <td>49</td>\n",
       "    </tr>\n",
       "    <tr>\n",
       "      <th>4</th>\n",
       "      <td>0</td>\n",
       "      <td>Nah I don't think he goes to usf, he lives aro...</td>\n",
       "      <td>61</td>\n",
       "    </tr>\n",
       "  </tbody>\n",
       "</table>\n",
       "</div>"
      ],
      "text/plain": [
       "   label                                               text  length\n",
       "0      0  Go until jurong point, crazy.. Available only ...     111\n",
       "1      0                      Ok lar... Joking wif u oni...      29\n",
       "2      1  Free entry in 2 a wkly comp to win FA Cup fina...     155\n",
       "3      0  U dun say so early hor... U c already then say...      49\n",
       "4      0  Nah I don't think he goes to usf, he lives aro...      61"
      ]
     },
     "execution_count": 12,
     "metadata": {},
     "output_type": "execute_result"
    }
   ],
   "source": [
    "df.loc[:,'label'] = df.label.map({'ham': 0, 'spam': 1})\n",
    "df.head()"
   ]
  },
  {
   "cell_type": "markdown",
   "id": "71b6d087",
   "metadata": {
    "papermill": {
     "duration": 0.03078,
     "end_time": "2022-02-28T07:23:01.399393",
     "exception": false,
     "start_time": "2022-02-28T07:23:01.368613",
     "status": "completed"
    },
    "tags": []
   },
   "source": [
    "> Implementing Bag of Words:"
   ]
  },
  {
   "cell_type": "code",
   "execution_count": 13,
   "id": "ef0ac044",
   "metadata": {
    "execution": {
     "iopub.execute_input": "2022-02-28T07:23:01.467746Z",
     "iopub.status.busy": "2022-02-28T07:23:01.466846Z",
     "iopub.status.idle": "2022-02-28T07:23:01.803955Z",
     "shell.execute_reply": "2022-02-28T07:23:01.803340Z",
     "shell.execute_reply.started": "2022-02-28T06:59:22.419502Z"
    },
    "papermill": {
     "duration": 0.372864,
     "end_time": "2022-02-28T07:23:01.804118",
     "exception": false,
     "start_time": "2022-02-28T07:23:01.431254",
     "status": "completed"
    },
    "tags": []
   },
   "outputs": [],
   "source": [
    "from sklearn.feature_extraction.text import CountVectorizer\n",
    "from sklearn.model_selection import train_test_split\n",
    "\n",
    "count = CountVectorizer()\n",
    "text = count.fit_transform(df['text'])"
   ]
  },
  {
   "cell_type": "code",
   "execution_count": 14,
   "id": "1c2e9b3b",
   "metadata": {
    "execution": {
     "iopub.execute_input": "2022-02-28T07:23:01.871805Z",
     "iopub.status.busy": "2022-02-28T07:23:01.871097Z",
     "iopub.status.idle": "2022-02-28T07:23:01.874616Z",
     "shell.execute_reply": "2022-02-28T07:23:01.874032Z",
     "shell.execute_reply.started": "2022-02-28T06:59:26.463746Z"
    },
    "papermill": {
     "duration": 0.039507,
     "end_time": "2022-02-28T07:23:01.874759",
     "exception": false,
     "start_time": "2022-02-28T07:23:01.835252",
     "status": "completed"
    },
    "tags": []
   },
   "outputs": [
    {
     "data": {
      "text/plain": [
       "<5572x8672 sparse matrix of type '<class 'numpy.int64'>'\n",
       "\twith 73916 stored elements in Compressed Sparse Row format>"
      ]
     },
     "execution_count": 14,
     "metadata": {},
     "output_type": "execute_result"
    }
   ],
   "source": [
    "text"
   ]
  },
  {
   "cell_type": "markdown",
   "id": "24704164",
   "metadata": {
    "papermill": {
     "duration": 0.031723,
     "end_time": "2022-02-28T07:23:01.939287",
     "exception": false,
     "start_time": "2022-02-28T07:23:01.907564",
     "status": "completed"
    },
    "tags": []
   },
   "source": [
    "> Splitting into train, test dataset:"
   ]
  },
  {
   "cell_type": "code",
   "execution_count": 15,
   "id": "89faf03e",
   "metadata": {
    "execution": {
     "iopub.execute_input": "2022-02-28T07:23:02.009313Z",
     "iopub.status.busy": "2022-02-28T07:23:02.008626Z",
     "iopub.status.idle": "2022-02-28T07:23:02.013224Z",
     "shell.execute_reply": "2022-02-28T07:23:02.012627Z",
     "shell.execute_reply.started": "2022-02-28T07:00:56.406734Z"
    },
    "papermill": {
     "duration": 0.042735,
     "end_time": "2022-02-28T07:23:02.013371",
     "exception": false,
     "start_time": "2022-02-28T07:23:01.970636",
     "status": "completed"
    },
    "tags": []
   },
   "outputs": [],
   "source": [
    "x_train,x_test,y_train,y_test = train_test_split(text, df['label'], test_size=0.2, random_state=1)"
   ]
  },
  {
   "cell_type": "code",
   "execution_count": 16,
   "id": "6d862cc7",
   "metadata": {
    "execution": {
     "iopub.execute_input": "2022-02-28T07:23:02.080299Z",
     "iopub.status.busy": "2022-02-28T07:23:02.078604Z",
     "iopub.status.idle": "2022-02-28T07:23:02.084369Z",
     "shell.execute_reply": "2022-02-28T07:23:02.083349Z",
     "shell.execute_reply.started": "2022-02-28T07:01:40.549305Z"
    },
    "papermill": {
     "duration": 0.039794,
     "end_time": "2022-02-28T07:23:02.084625",
     "exception": false,
     "start_time": "2022-02-28T07:23:02.044831",
     "status": "completed"
    },
    "tags": []
   },
   "outputs": [
    {
     "name": "stdout",
     "output_type": "stream",
     "text": [
      "(4457, 8672)\n",
      "(1115, 8672)\n"
     ]
    }
   ],
   "source": [
    "print(x_train.shape)\n",
    "print(x_test.shape)"
   ]
  },
  {
   "cell_type": "markdown",
   "id": "94fe5c81",
   "metadata": {
    "papermill": {
     "duration": 0.031311,
     "end_time": "2022-02-28T07:23:02.150592",
     "exception": false,
     "start_time": "2022-02-28T07:23:02.119281",
     "status": "completed"
    },
    "tags": []
   },
   "source": [
    "> Using mlpclassifier to build our model for spam classification:"
   ]
  },
  {
   "cell_type": "code",
   "execution_count": 17,
   "id": "50e8ef2c",
   "metadata": {
    "execution": {
     "iopub.execute_input": "2022-02-28T07:23:02.217633Z",
     "iopub.status.busy": "2022-02-28T07:23:02.216903Z",
     "iopub.status.idle": "2022-02-28T07:23:37.437294Z",
     "shell.execute_reply": "2022-02-28T07:23:37.438190Z",
     "shell.execute_reply.started": "2022-02-28T07:02:58.580086Z"
    },
    "papermill": {
     "duration": 35.256026,
     "end_time": "2022-02-28T07:23:37.438475",
     "exception": false,
     "start_time": "2022-02-28T07:23:02.182449",
     "status": "completed"
    },
    "tags": []
   },
   "outputs": [
    {
     "data": {
      "text/plain": [
       "MLPClassifier()"
      ]
     },
     "execution_count": 17,
     "metadata": {},
     "output_type": "execute_result"
    }
   ],
   "source": [
    "from sklearn.neural_network import MLPClassifier\n",
    "\n",
    "mlp = MLPClassifier()\n",
    "mlp.fit(x_train,y_train)"
   ]
  },
  {
   "cell_type": "code",
   "execution_count": 18,
   "id": "3ceb6bd6",
   "metadata": {
    "execution": {
     "iopub.execute_input": "2022-02-28T07:23:37.519393Z",
     "iopub.status.busy": "2022-02-28T07:23:37.518233Z",
     "iopub.status.idle": "2022-02-28T07:23:37.527301Z",
     "shell.execute_reply": "2022-02-28T07:23:37.528377Z",
     "shell.execute_reply.started": "2022-02-28T07:03:43.716442Z"
    },
    "papermill": {
     "duration": 0.046823,
     "end_time": "2022-02-28T07:23:37.528661",
     "exception": false,
     "start_time": "2022-02-28T07:23:37.481838",
     "status": "completed"
    },
    "tags": []
   },
   "outputs": [
    {
     "data": {
      "text/plain": [
       "array([0, 0, 0, ..., 0, 0, 0])"
      ]
     },
     "execution_count": 18,
     "metadata": {},
     "output_type": "execute_result"
    }
   ],
   "source": [
    "y_pred = mlp.predict(x_test)\n",
    "y_pred"
   ]
  },
  {
   "cell_type": "markdown",
   "id": "0bb37d8b",
   "metadata": {
    "papermill": {
     "duration": 0.057023,
     "end_time": "2022-02-28T07:23:37.646475",
     "exception": false,
     "start_time": "2022-02-28T07:23:37.589452",
     "status": "completed"
    },
    "tags": []
   },
   "source": [
    "> Let's check our models performance:"
   ]
  },
  {
   "cell_type": "code",
   "execution_count": 19,
   "id": "0d95b602",
   "metadata": {
    "execution": {
     "iopub.execute_input": "2022-02-28T07:23:37.719835Z",
     "iopub.status.busy": "2022-02-28T07:23:37.718805Z",
     "iopub.status.idle": "2022-02-28T07:23:37.722447Z",
     "shell.execute_reply": "2022-02-28T07:23:37.722955Z",
     "shell.execute_reply.started": "2022-02-28T07:05:12.414985Z"
    },
    "papermill": {
     "duration": 0.044084,
     "end_time": "2022-02-28T07:23:37.723138",
     "exception": false,
     "start_time": "2022-02-28T07:23:37.679054",
     "status": "completed"
    },
    "tags": []
   },
   "outputs": [
    {
     "name": "stdout",
     "output_type": "stream",
     "text": [
      "Accuracy: 0.9928251121076234\n"
     ]
    }
   ],
   "source": [
    "from sklearn.metrics import accuracy_score, classification_report, confusion_matrix\n",
    "print(\"Accuracy:\", accuracy_score(y_test, y_pred))"
   ]
  },
  {
   "cell_type": "code",
   "execution_count": 20,
   "id": "f1b69f84",
   "metadata": {
    "execution": {
     "iopub.execute_input": "2022-02-28T07:23:37.794389Z",
     "iopub.status.busy": "2022-02-28T07:23:37.793702Z",
     "iopub.status.idle": "2022-02-28T07:23:37.802555Z",
     "shell.execute_reply": "2022-02-28T07:23:37.803080Z",
     "shell.execute_reply.started": "2022-02-28T07:05:35.746749Z"
    },
    "papermill": {
     "duration": 0.047126,
     "end_time": "2022-02-28T07:23:37.803311",
     "exception": false,
     "start_time": "2022-02-28T07:23:37.756185",
     "status": "completed"
    },
    "tags": []
   },
   "outputs": [
    {
     "name": "stdout",
     "output_type": "stream",
     "text": [
      "              precision    recall  f1-score   support\n",
      "\n",
      "           0       0.99      1.00      1.00       976\n",
      "           1       1.00      0.94      0.97       139\n",
      "\n",
      "    accuracy                           0.99      1115\n",
      "   macro avg       1.00      0.97      0.98      1115\n",
      "weighted avg       0.99      0.99      0.99      1115\n",
      "\n"
     ]
    }
   ],
   "source": [
    "print(classification_report(y_test, y_pred))"
   ]
  },
  {
   "cell_type": "code",
   "execution_count": 21,
   "id": "6bdb4498",
   "metadata": {
    "execution": {
     "iopub.execute_input": "2022-02-28T07:23:37.875667Z",
     "iopub.status.busy": "2022-02-28T07:23:37.874654Z",
     "iopub.status.idle": "2022-02-28T07:23:38.104679Z",
     "shell.execute_reply": "2022-02-28T07:23:38.105221Z",
     "shell.execute_reply.started": "2022-02-28T07:15:46.410037Z"
    },
    "papermill": {
     "duration": 0.268676,
     "end_time": "2022-02-28T07:23:38.105421",
     "exception": false,
     "start_time": "2022-02-28T07:23:37.836745",
     "status": "completed"
    },
    "tags": []
   },
   "outputs": [
    {
     "data": {
      "image/png": "[encoded data removed]",
      "text/plain": [
       "<Figure size 576x504 with 1 Axes>"
      ]
     },
     "metadata": {
      "needs_background": "light"
     },
     "output_type": "display_data"
    }
   ],
   "source": [
    "from mlxtend.plotting import plot_confusion_matrix\n",
    "\n",
    "cm = confusion_matrix(y_test, y_pred)\n",
    "plot_confusion_matrix(conf_mat = cm,figsize=(8,7),class_names = ['Ham','Spam'],\n",
    "                     show_normed=True,cmap = 'Wistia');#Wistia\n",
    "plt.xticks(rotation=0,alpha = 1.0,color = 'black')\n",
    "plt.yticks(alpha = 1.0,color = 'black')\n",
    "plt.xlabel(\"Predicted Label\",color=\"black\")\n",
    "plt.ylabel(\"True Label\",color=\"black\")\n",
    "plt.show()"
   ]
  },
  {
   "cell_type": "code",
   "execution_count": null,
   "id": "a80ee5e5",
   "metadata": {
    "papermill": {
     "duration": 0.034796,
     "end_time": "2022-02-28T07:23:38.175967",
     "exception": false,
     "start_time": "2022-02-28T07:23:38.141171",
     "status": "completed"
    },
    "tags": []
   },
   "outputs": [],
   "source": []
  }
 ],
 "metadata": {
  "kernelspec": {
   "display_name": "Python 3",
   "language": "python",
   "name": "python3"
  },
  "language_info": {
   "codemirror_mode": {
    "name": "ipython",
    "version": 3
   },
   "file_extension": ".py",
   "mimetype": "text/x-python",
   "name": "python",
   "nbconvert_exporter": "python",
   "pygments_lexer": "ipython3",
   "version": "3.7.12"
  },
  "papermill": {
   "default_parameters": {},
   "duration": 50.825983,
   "end_time": "2022-02-28T07:23:39.021780",
   "environment_variables": {},
   "exception": null,
   "input_path": "__notebook__.ipynb",
   "output_path": "__notebook__.ipynb",
   "parameters": {},
   "start_time": "2022-02-28T07:22:48.195797",
   "version": "2.3.3"
  }
 },
 "nbformat": 4,
 "nbformat_minor": 5
}
